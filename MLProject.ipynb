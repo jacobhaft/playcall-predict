{
  "nbformat": 4,
  "nbformat_minor": 0,
  "metadata": {
    "colab": {
      "provenance": [],
      "toc_visible": true
    },
    "kernelspec": {
      "name": "python3",
      "display_name": "Python 3"
    },
    "language_info": {
      "name": "python"
    }
  },
  "cells": [
    {
      "cell_type": "markdown",
      "source": [
        "Importing the required packages."
      ],
      "metadata": {
        "id": "e57DY-S9tzgu"
      }
    },
    {
      "cell_type": "code",
      "execution_count": 172,
      "metadata": {
        "id": "FAvFGNU50sgI"
      },
      "outputs": [],
      "source": [
        "import pandas as pd\n",
        "import os\n",
        "from sklearn.model_selection import train_test_split\n",
        "from sklearn.tree import DecisionTreeClassifier\n",
        "from sklearn.linear_model import LogisticRegression\n",
        "from sklearn.metrics import accuracy_score, precision_score, recall_score, f1_score\n",
        "from sklearn.ensemble import StackingClassifier"
      ]
    },
    {
      "cell_type": "markdown",
      "source": [
        "Importing the data from the .csv storage."
      ],
      "metadata": {
        "id": "1kCfkicTtwVR"
      }
    },
    {
      "cell_type": "code",
      "source": [
        "data = pd.DataFrame()\n",
        "\n",
        "# Import the local data for the plays\n",
        "for year in range(2020, 2024):\n",
        "    filename = f\"play_by_play_{year}_new.csv\"\n",
        "    if os.path.exists(filename):\n",
        "        year_data = pd.read_csv(filename)\n",
        "        data = pd.concat([data, year_data], ignore_index=True)\n",
        "    else:\n",
        "        print(f\"{filename} not found.\")\n",
        "\n",
        "data.fillna(0, inplace=True)\n",
        "random_state_choice = 43"
      ],
      "metadata": {
        "id": "GpatCiDPtoKL"
      },
      "execution_count": 173,
      "outputs": []
    },
    {
      "cell_type": "markdown",
      "source": [
        "Creating the features for the models."
      ],
      "metadata": {
        "id": "l6CRWPR-ttH1"
      }
    },
    {
      "cell_type": "code",
      "source": [
        "                                                                                                                            # Basic Features\n",
        "data['red_zone'] = (data['yardline_100'] <= 20).astype(int)                                                                 # Is this within the 20 yard line (red zone)?\n",
        "data['is_home_team'] = (data['home_team'] == data['posteam']).astype(int)                                                   # Is this the home team?\n",
        "data['is_late_season'] = (data['week'] >= 10).astype(int)                                                                   # Is this late in the season?\n",
        "data['is_shotgun'] = data['shotgun'].astype(int)                                                                            # Is the team lined up in shotgun formation?\n",
        "data['is_no_huddle'] = data['no_huddle'].astype(int)                                                                        # Huddle prior to the play?\n",
        "data['near_end_of_half'] = (data['half_seconds_remaining'] < 240).astype(int)                                               # Is it within 4 minutes of the end of the half?\n",
        "data['near_end_of_game'] = (data['game_seconds_remaining'] < 240).astype(int)                                               # Is it within 4 minutes of the end of the g?\n",
        "\n",
        "                                                                                                                            # Advanced Features\n",
        "data['score_diff'] = data.apply(                                                                                            # - This one can't even be used cause it doesn't help but it's useful for the others.\n",
        "    lambda row: row['home_score'] - row['away_score'] if row['is_home_team'] == 1\n",
        "    else row['away_score'] - row['home_score'], axis=1\n",
        ")\n",
        "data['late_cozy_offense'] = ((data['half_seconds_remaining'] <= 240) & (data['score_diff'] > 0)).astype(int)                # - Late in the game, team is in the lead (run usually more likely).\n",
        "data['late_desperate_offense'] = ((data['half_seconds_remaining'] <= 240) & (data['score_diff'] < 0)).astype(int)           # - Late in the game, team is behind (pass usually more likely).\n",
        "data['late_super_desperate_offense'] = ((data['half_seconds_remaining'] <= 240) & (data['score_diff'] < -8)).astype(int)    # - Late in the game, team is very behind (pass usually more likely).\n",
        "data['rolling_avg_yards'] = data['yards_gained'].rolling(window=3, min_periods=1).mean()                                    # - Attempt at a momentum feature.\n",
        "data['previous_play_run'] = (data['play_type'].shift(1) == 'run').astype(int)                                               # - Was the previous play a run?\n",
        "data['previous_play_pass'] = (data['play_type'].shift(1) == 'pass').astype(int)                                             # - Was the previous play a pass?\n",
        "data['past_conversion_success'] = (data['third_down_converted'].shift(1).astype(bool)                                       # - Recent third/fourth down conversion success?\n",
        "                                 | data['fourth_down_converted'].shift(1).astype(bool)).astype(int)"
      ],
      "metadata": {
        "id": "Th3vx2vftssO"
      },
      "execution_count": 174,
      "outputs": []
    },
    {
      "cell_type": "markdown",
      "source": [
        "Selecting the features to be included in the training."
      ],
      "metadata": {
        "id": "F9fw6ihRuIFa"
      }
    },
    {
      "cell_type": "code",
      "source": [
        "# The features to be included in the models.\n",
        "selected_features = [\n",
        "    'down',\n",
        "    'ydstogo',\n",
        "    'red_zone',\n",
        "    'is_home_team',\n",
        "    'is_late_season',\n",
        "    'is_shotgun',\n",
        "    'is_no_huddle',\n",
        "    'near_end_of_half',\n",
        "    'near_end_of_game',\n",
        "    'late_cozy_offense',\n",
        "    'late_desperate_offense',\n",
        "    'late_super_desperate_offense',\n",
        "    'rolling_avg_yards',\n",
        "    'previous_play_run',\n",
        "    'previous_play_pass',\n",
        "    'past_conversion_success',\n",
        "    ]"
      ],
      "metadata": {
        "id": "f3reytvsts1j"
      },
      "execution_count": 175,
      "outputs": []
    },
    {
      "cell_type": "markdown",
      "source": [
        "Preparing the dataset for training by filtering out irrelevant plays such as kickoffs and punts, selecting the desired features, encoding the target variable, and splitting the data into training/testing sets at a 70/30 split."
      ],
      "metadata": {
        "id": "bLRkovC2uIpy"
      }
    },
    {
      "cell_type": "code",
      "source": [
        "# Play type is our target variable; filter out unwanted plays like punts and kickoffs\n",
        "filtered_data = data[data['play_type'].isin(['pass', 'run'])]  # Limit to pass/run plays\n",
        "filtered_data = filtered_data[filtered_data['down'] != 0] # For some reason some \"0th down\" plays were still left over\n",
        "\n",
        "X = filtered_data[selected_features]\n",
        "y = filtered_data['play_type'].apply(lambda x: 1 if x == 'pass' else 0)  # Encode 'pass' as 1, 'run' as 0\n",
        "\n",
        "X_train, X_test, y_train, y_test = train_test_split(X, y, test_size=0.3, random_state=random_state_choice)"
      ],
      "metadata": {
        "id": "5VRKUYl7ts76"
      },
      "execution_count": 176,
      "outputs": []
    },
    {
      "cell_type": "markdown",
      "source": [
        "Creating the Decision Tree, Logistic Regression, and Stacked models."
      ],
      "metadata": {
        "id": "mArymgs3uJJB"
      }
    },
    {
      "cell_type": "code",
      "source": [
        "# Creating Decision Tree model. Depth of 9 turned out to be optimal.\n",
        "dt_model = DecisionTreeClassifier(max_depth=9, random_state=random_state_choice)  # Limit depth to avoid overfitting\n",
        "dt_model.fit(X_train, y_train)\n",
        "\n",
        "# Creating Logistic Regression model. Depth of 9 turned out to be optimal.\n",
        "lr_model = LogisticRegression(max_iter=1000, random_state=random_state_choice)  # Increased iterations for convergence\n",
        "lr_model.fit(X_train, y_train)\n",
        "\n",
        "stacked_model = StackingClassifier(\n",
        "    estimators=[\n",
        "        ('decision_tree', dt_model),\n",
        "        ('logistic_regression', lr_model)\n",
        "    ],\n",
        "    final_estimator=LogisticRegression(random_state=random_state_choice)\n",
        ")\n",
        "\n",
        "stacked_model.fit(X_train, y_train)"
      ],
      "metadata": {
        "colab": {
          "base_uri": "https://localhost:8080/",
          "height": 183
        },
        "id": "tMQqyDkFts-T",
        "outputId": "24b29e8f-eb2c-45e5-a246-f5a5ef96c515"
      },
      "execution_count": 177,
      "outputs": [
        {
          "output_type": "execute_result",
          "data": {
            "text/plain": [
              "StackingClassifier(estimators=[('decision_tree',\n",
              "                                DecisionTreeClassifier(max_depth=9,\n",
              "                                                       random_state=43)),\n",
              "                               ('logistic_regression',\n",
              "                                LogisticRegression(max_iter=1000,\n",
              "                                                   random_state=43))],\n",
              "                   final_estimator=LogisticRegression(random_state=43))"
            ],
            "text/html": [
              "<style>#sk-container-id-15 {\n",
              "  /* Definition of color scheme common for light and dark mode */\n",
              "  --sklearn-color-text: black;\n",
              "  --sklearn-color-line: gray;\n",
              "  /* Definition of color scheme for unfitted estimators */\n",
              "  --sklearn-color-unfitted-level-0: #fff5e6;\n",
              "  --sklearn-color-unfitted-level-1: #f6e4d2;\n",
              "  --sklearn-color-unfitted-level-2: #ffe0b3;\n",
              "  --sklearn-color-unfitted-level-3: chocolate;\n",
              "  /* Definition of color scheme for fitted estimators */\n",
              "  --sklearn-color-fitted-level-0: #f0f8ff;\n",
              "  --sklearn-color-fitted-level-1: #d4ebff;\n",
              "  --sklearn-color-fitted-level-2: #b3dbfd;\n",
              "  --sklearn-color-fitted-level-3: cornflowerblue;\n",
              "\n",
              "  /* Specific color for light theme */\n",
              "  --sklearn-color-text-on-default-background: var(--sg-text-color, var(--theme-code-foreground, var(--jp-content-font-color1, black)));\n",
              "  --sklearn-color-background: var(--sg-background-color, var(--theme-background, var(--jp-layout-color0, white)));\n",
              "  --sklearn-color-border-box: var(--sg-text-color, var(--theme-code-foreground, var(--jp-content-font-color1, black)));\n",
              "  --sklearn-color-icon: #696969;\n",
              "\n",
              "  @media (prefers-color-scheme: dark) {\n",
              "    /* Redefinition of color scheme for dark theme */\n",
              "    --sklearn-color-text-on-default-background: var(--sg-text-color, var(--theme-code-foreground, var(--jp-content-font-color1, white)));\n",
              "    --sklearn-color-background: var(--sg-background-color, var(--theme-background, var(--jp-layout-color0, #111)));\n",
              "    --sklearn-color-border-box: var(--sg-text-color, var(--theme-code-foreground, var(--jp-content-font-color1, white)));\n",
              "    --sklearn-color-icon: #878787;\n",
              "  }\n",
              "}\n",
              "\n",
              "#sk-container-id-15 {\n",
              "  color: var(--sklearn-color-text);\n",
              "}\n",
              "\n",
              "#sk-container-id-15 pre {\n",
              "  padding: 0;\n",
              "}\n",
              "\n",
              "#sk-container-id-15 input.sk-hidden--visually {\n",
              "  border: 0;\n",
              "  clip: rect(1px 1px 1px 1px);\n",
              "  clip: rect(1px, 1px, 1px, 1px);\n",
              "  height: 1px;\n",
              "  margin: -1px;\n",
              "  overflow: hidden;\n",
              "  padding: 0;\n",
              "  position: absolute;\n",
              "  width: 1px;\n",
              "}\n",
              "\n",
              "#sk-container-id-15 div.sk-dashed-wrapped {\n",
              "  border: 1px dashed var(--sklearn-color-line);\n",
              "  margin: 0 0.4em 0.5em 0.4em;\n",
              "  box-sizing: border-box;\n",
              "  padding-bottom: 0.4em;\n",
              "  background-color: var(--sklearn-color-background);\n",
              "}\n",
              "\n",
              "#sk-container-id-15 div.sk-container {\n",
              "  /* jupyter's `normalize.less` sets `[hidden] { display: none; }`\n",
              "     but bootstrap.min.css set `[hidden] { display: none !important; }`\n",
              "     so we also need the `!important` here to be able to override the\n",
              "     default hidden behavior on the sphinx rendered scikit-learn.org.\n",
              "     See: https://github.com/scikit-learn/scikit-learn/issues/21755 */\n",
              "  display: inline-block !important;\n",
              "  position: relative;\n",
              "}\n",
              "\n",
              "#sk-container-id-15 div.sk-text-repr-fallback {\n",
              "  display: none;\n",
              "}\n",
              "\n",
              "div.sk-parallel-item,\n",
              "div.sk-serial,\n",
              "div.sk-item {\n",
              "  /* draw centered vertical line to link estimators */\n",
              "  background-image: linear-gradient(var(--sklearn-color-text-on-default-background), var(--sklearn-color-text-on-default-background));\n",
              "  background-size: 2px 100%;\n",
              "  background-repeat: no-repeat;\n",
              "  background-position: center center;\n",
              "}\n",
              "\n",
              "/* Parallel-specific style estimator block */\n",
              "\n",
              "#sk-container-id-15 div.sk-parallel-item::after {\n",
              "  content: \"\";\n",
              "  width: 100%;\n",
              "  border-bottom: 2px solid var(--sklearn-color-text-on-default-background);\n",
              "  flex-grow: 1;\n",
              "}\n",
              "\n",
              "#sk-container-id-15 div.sk-parallel {\n",
              "  display: flex;\n",
              "  align-items: stretch;\n",
              "  justify-content: center;\n",
              "  background-color: var(--sklearn-color-background);\n",
              "  position: relative;\n",
              "}\n",
              "\n",
              "#sk-container-id-15 div.sk-parallel-item {\n",
              "  display: flex;\n",
              "  flex-direction: column;\n",
              "}\n",
              "\n",
              "#sk-container-id-15 div.sk-parallel-item:first-child::after {\n",
              "  align-self: flex-end;\n",
              "  width: 50%;\n",
              "}\n",
              "\n",
              "#sk-container-id-15 div.sk-parallel-item:last-child::after {\n",
              "  align-self: flex-start;\n",
              "  width: 50%;\n",
              "}\n",
              "\n",
              "#sk-container-id-15 div.sk-parallel-item:only-child::after {\n",
              "  width: 0;\n",
              "}\n",
              "\n",
              "/* Serial-specific style estimator block */\n",
              "\n",
              "#sk-container-id-15 div.sk-serial {\n",
              "  display: flex;\n",
              "  flex-direction: column;\n",
              "  align-items: center;\n",
              "  background-color: var(--sklearn-color-background);\n",
              "  padding-right: 1em;\n",
              "  padding-left: 1em;\n",
              "}\n",
              "\n",
              "\n",
              "/* Toggleable style: style used for estimator/Pipeline/ColumnTransformer box that is\n",
              "clickable and can be expanded/collapsed.\n",
              "- Pipeline and ColumnTransformer use this feature and define the default style\n",
              "- Estimators will overwrite some part of the style using the `sk-estimator` class\n",
              "*/\n",
              "\n",
              "/* Pipeline and ColumnTransformer style (default) */\n",
              "\n",
              "#sk-container-id-15 div.sk-toggleable {\n",
              "  /* Default theme specific background. It is overwritten whether we have a\n",
              "  specific estimator or a Pipeline/ColumnTransformer */\n",
              "  background-color: var(--sklearn-color-background);\n",
              "}\n",
              "\n",
              "/* Toggleable label */\n",
              "#sk-container-id-15 label.sk-toggleable__label {\n",
              "  cursor: pointer;\n",
              "  display: block;\n",
              "  width: 100%;\n",
              "  margin-bottom: 0;\n",
              "  padding: 0.5em;\n",
              "  box-sizing: border-box;\n",
              "  text-align: center;\n",
              "}\n",
              "\n",
              "#sk-container-id-15 label.sk-toggleable__label-arrow:before {\n",
              "  /* Arrow on the left of the label */\n",
              "  content: \"▸\";\n",
              "  float: left;\n",
              "  margin-right: 0.25em;\n",
              "  color: var(--sklearn-color-icon);\n",
              "}\n",
              "\n",
              "#sk-container-id-15 label.sk-toggleable__label-arrow:hover:before {\n",
              "  color: var(--sklearn-color-text);\n",
              "}\n",
              "\n",
              "/* Toggleable content - dropdown */\n",
              "\n",
              "#sk-container-id-15 div.sk-toggleable__content {\n",
              "  max-height: 0;\n",
              "  max-width: 0;\n",
              "  overflow: hidden;\n",
              "  text-align: left;\n",
              "  /* unfitted */\n",
              "  background-color: var(--sklearn-color-unfitted-level-0);\n",
              "}\n",
              "\n",
              "#sk-container-id-15 div.sk-toggleable__content.fitted {\n",
              "  /* fitted */\n",
              "  background-color: var(--sklearn-color-fitted-level-0);\n",
              "}\n",
              "\n",
              "#sk-container-id-15 div.sk-toggleable__content pre {\n",
              "  margin: 0.2em;\n",
              "  border-radius: 0.25em;\n",
              "  color: var(--sklearn-color-text);\n",
              "  /* unfitted */\n",
              "  background-color: var(--sklearn-color-unfitted-level-0);\n",
              "}\n",
              "\n",
              "#sk-container-id-15 div.sk-toggleable__content.fitted pre {\n",
              "  /* unfitted */\n",
              "  background-color: var(--sklearn-color-fitted-level-0);\n",
              "}\n",
              "\n",
              "#sk-container-id-15 input.sk-toggleable__control:checked~div.sk-toggleable__content {\n",
              "  /* Expand drop-down */\n",
              "  max-height: 200px;\n",
              "  max-width: 100%;\n",
              "  overflow: auto;\n",
              "}\n",
              "\n",
              "#sk-container-id-15 input.sk-toggleable__control:checked~label.sk-toggleable__label-arrow:before {\n",
              "  content: \"▾\";\n",
              "}\n",
              "\n",
              "/* Pipeline/ColumnTransformer-specific style */\n",
              "\n",
              "#sk-container-id-15 div.sk-label input.sk-toggleable__control:checked~label.sk-toggleable__label {\n",
              "  color: var(--sklearn-color-text);\n",
              "  background-color: var(--sklearn-color-unfitted-level-2);\n",
              "}\n",
              "\n",
              "#sk-container-id-15 div.sk-label.fitted input.sk-toggleable__control:checked~label.sk-toggleable__label {\n",
              "  background-color: var(--sklearn-color-fitted-level-2);\n",
              "}\n",
              "\n",
              "/* Estimator-specific style */\n",
              "\n",
              "/* Colorize estimator box */\n",
              "#sk-container-id-15 div.sk-estimator input.sk-toggleable__control:checked~label.sk-toggleable__label {\n",
              "  /* unfitted */\n",
              "  background-color: var(--sklearn-color-unfitted-level-2);\n",
              "}\n",
              "\n",
              "#sk-container-id-15 div.sk-estimator.fitted input.sk-toggleable__control:checked~label.sk-toggleable__label {\n",
              "  /* fitted */\n",
              "  background-color: var(--sklearn-color-fitted-level-2);\n",
              "}\n",
              "\n",
              "#sk-container-id-15 div.sk-label label.sk-toggleable__label,\n",
              "#sk-container-id-15 div.sk-label label {\n",
              "  /* The background is the default theme color */\n",
              "  color: var(--sklearn-color-text-on-default-background);\n",
              "}\n",
              "\n",
              "/* On hover, darken the color of the background */\n",
              "#sk-container-id-15 div.sk-label:hover label.sk-toggleable__label {\n",
              "  color: var(--sklearn-color-text);\n",
              "  background-color: var(--sklearn-color-unfitted-level-2);\n",
              "}\n",
              "\n",
              "/* Label box, darken color on hover, fitted */\n",
              "#sk-container-id-15 div.sk-label.fitted:hover label.sk-toggleable__label.fitted {\n",
              "  color: var(--sklearn-color-text);\n",
              "  background-color: var(--sklearn-color-fitted-level-2);\n",
              "}\n",
              "\n",
              "/* Estimator label */\n",
              "\n",
              "#sk-container-id-15 div.sk-label label {\n",
              "  font-family: monospace;\n",
              "  font-weight: bold;\n",
              "  display: inline-block;\n",
              "  line-height: 1.2em;\n",
              "}\n",
              "\n",
              "#sk-container-id-15 div.sk-label-container {\n",
              "  text-align: center;\n",
              "}\n",
              "\n",
              "/* Estimator-specific */\n",
              "#sk-container-id-15 div.sk-estimator {\n",
              "  font-family: monospace;\n",
              "  border: 1px dotted var(--sklearn-color-border-box);\n",
              "  border-radius: 0.25em;\n",
              "  box-sizing: border-box;\n",
              "  margin-bottom: 0.5em;\n",
              "  /* unfitted */\n",
              "  background-color: var(--sklearn-color-unfitted-level-0);\n",
              "}\n",
              "\n",
              "#sk-container-id-15 div.sk-estimator.fitted {\n",
              "  /* fitted */\n",
              "  background-color: var(--sklearn-color-fitted-level-0);\n",
              "}\n",
              "\n",
              "/* on hover */\n",
              "#sk-container-id-15 div.sk-estimator:hover {\n",
              "  /* unfitted */\n",
              "  background-color: var(--sklearn-color-unfitted-level-2);\n",
              "}\n",
              "\n",
              "#sk-container-id-15 div.sk-estimator.fitted:hover {\n",
              "  /* fitted */\n",
              "  background-color: var(--sklearn-color-fitted-level-2);\n",
              "}\n",
              "\n",
              "/* Specification for estimator info (e.g. \"i\" and \"?\") */\n",
              "\n",
              "/* Common style for \"i\" and \"?\" */\n",
              "\n",
              ".sk-estimator-doc-link,\n",
              "a:link.sk-estimator-doc-link,\n",
              "a:visited.sk-estimator-doc-link {\n",
              "  float: right;\n",
              "  font-size: smaller;\n",
              "  line-height: 1em;\n",
              "  font-family: monospace;\n",
              "  background-color: var(--sklearn-color-background);\n",
              "  border-radius: 1em;\n",
              "  height: 1em;\n",
              "  width: 1em;\n",
              "  text-decoration: none !important;\n",
              "  margin-left: 1ex;\n",
              "  /* unfitted */\n",
              "  border: var(--sklearn-color-unfitted-level-1) 1pt solid;\n",
              "  color: var(--sklearn-color-unfitted-level-1);\n",
              "}\n",
              "\n",
              ".sk-estimator-doc-link.fitted,\n",
              "a:link.sk-estimator-doc-link.fitted,\n",
              "a:visited.sk-estimator-doc-link.fitted {\n",
              "  /* fitted */\n",
              "  border: var(--sklearn-color-fitted-level-1) 1pt solid;\n",
              "  color: var(--sklearn-color-fitted-level-1);\n",
              "}\n",
              "\n",
              "/* On hover */\n",
              "div.sk-estimator:hover .sk-estimator-doc-link:hover,\n",
              ".sk-estimator-doc-link:hover,\n",
              "div.sk-label-container:hover .sk-estimator-doc-link:hover,\n",
              ".sk-estimator-doc-link:hover {\n",
              "  /* unfitted */\n",
              "  background-color: var(--sklearn-color-unfitted-level-3);\n",
              "  color: var(--sklearn-color-background);\n",
              "  text-decoration: none;\n",
              "}\n",
              "\n",
              "div.sk-estimator.fitted:hover .sk-estimator-doc-link.fitted:hover,\n",
              ".sk-estimator-doc-link.fitted:hover,\n",
              "div.sk-label-container:hover .sk-estimator-doc-link.fitted:hover,\n",
              ".sk-estimator-doc-link.fitted:hover {\n",
              "  /* fitted */\n",
              "  background-color: var(--sklearn-color-fitted-level-3);\n",
              "  color: var(--sklearn-color-background);\n",
              "  text-decoration: none;\n",
              "}\n",
              "\n",
              "/* Span, style for the box shown on hovering the info icon */\n",
              ".sk-estimator-doc-link span {\n",
              "  display: none;\n",
              "  z-index: 9999;\n",
              "  position: relative;\n",
              "  font-weight: normal;\n",
              "  right: .2ex;\n",
              "  padding: .5ex;\n",
              "  margin: .5ex;\n",
              "  width: min-content;\n",
              "  min-width: 20ex;\n",
              "  max-width: 50ex;\n",
              "  color: var(--sklearn-color-text);\n",
              "  box-shadow: 2pt 2pt 4pt #999;\n",
              "  /* unfitted */\n",
              "  background: var(--sklearn-color-unfitted-level-0);\n",
              "  border: .5pt solid var(--sklearn-color-unfitted-level-3);\n",
              "}\n",
              "\n",
              ".sk-estimator-doc-link.fitted span {\n",
              "  /* fitted */\n",
              "  background: var(--sklearn-color-fitted-level-0);\n",
              "  border: var(--sklearn-color-fitted-level-3);\n",
              "}\n",
              "\n",
              ".sk-estimator-doc-link:hover span {\n",
              "  display: block;\n",
              "}\n",
              "\n",
              "/* \"?\"-specific style due to the `<a>` HTML tag */\n",
              "\n",
              "#sk-container-id-15 a.estimator_doc_link {\n",
              "  float: right;\n",
              "  font-size: 1rem;\n",
              "  line-height: 1em;\n",
              "  font-family: monospace;\n",
              "  background-color: var(--sklearn-color-background);\n",
              "  border-radius: 1rem;\n",
              "  height: 1rem;\n",
              "  width: 1rem;\n",
              "  text-decoration: none;\n",
              "  /* unfitted */\n",
              "  color: var(--sklearn-color-unfitted-level-1);\n",
              "  border: var(--sklearn-color-unfitted-level-1) 1pt solid;\n",
              "}\n",
              "\n",
              "#sk-container-id-15 a.estimator_doc_link.fitted {\n",
              "  /* fitted */\n",
              "  border: var(--sklearn-color-fitted-level-1) 1pt solid;\n",
              "  color: var(--sklearn-color-fitted-level-1);\n",
              "}\n",
              "\n",
              "/* On hover */\n",
              "#sk-container-id-15 a.estimator_doc_link:hover {\n",
              "  /* unfitted */\n",
              "  background-color: var(--sklearn-color-unfitted-level-3);\n",
              "  color: var(--sklearn-color-background);\n",
              "  text-decoration: none;\n",
              "}\n",
              "\n",
              "#sk-container-id-15 a.estimator_doc_link.fitted:hover {\n",
              "  /* fitted */\n",
              "  background-color: var(--sklearn-color-fitted-level-3);\n",
              "}\n",
              "</style><div id=\"sk-container-id-15\" class=\"sk-top-container\"><div class=\"sk-text-repr-fallback\"><pre>StackingClassifier(estimators=[(&#x27;decision_tree&#x27;,\n",
              "                                DecisionTreeClassifier(max_depth=9,\n",
              "                                                       random_state=43)),\n",
              "                               (&#x27;logistic_regression&#x27;,\n",
              "                                LogisticRegression(max_iter=1000,\n",
              "                                                   random_state=43))],\n",
              "                   final_estimator=LogisticRegression(random_state=43))</pre><b>In a Jupyter environment, please rerun this cell to show the HTML representation or trust the notebook. <br />On GitHub, the HTML representation is unable to render, please try loading this page with nbviewer.org.</b></div><div class=\"sk-container\" hidden><div class=\"sk-item sk-dashed-wrapped\"><div class=\"sk-label-container\"><div class=\"sk-label fitted sk-toggleable\"><input class=\"sk-toggleable__control sk-hidden--visually\" id=\"sk-estimator-id-57\" type=\"checkbox\" ><label for=\"sk-estimator-id-57\" class=\"sk-toggleable__label fitted sk-toggleable__label-arrow fitted\">&nbsp;&nbsp;StackingClassifier<a class=\"sk-estimator-doc-link fitted\" rel=\"noreferrer\" target=\"_blank\" href=\"https://scikit-learn.org/1.5/modules/generated/sklearn.ensemble.StackingClassifier.html\">?<span>Documentation for StackingClassifier</span></a><span class=\"sk-estimator-doc-link fitted\">i<span>Fitted</span></span></label><div class=\"sk-toggleable__content fitted\"><pre>StackingClassifier(estimators=[(&#x27;decision_tree&#x27;,\n",
              "                                DecisionTreeClassifier(max_depth=9,\n",
              "                                                       random_state=43)),\n",
              "                               (&#x27;logistic_regression&#x27;,\n",
              "                                LogisticRegression(max_iter=1000,\n",
              "                                                   random_state=43))],\n",
              "                   final_estimator=LogisticRegression(random_state=43))</pre></div> </div></div><div class=\"sk-serial\"><div class=\"sk-item\"><div class=\"sk-parallel\"><div class=\"sk-parallel-item\"><div class=\"sk-item\"><div class=\"sk-label-container\"><div class=\"sk-label fitted sk-toggleable\"><label>decision_tree</label></div></div><div class=\"sk-serial\"><div class=\"sk-item\"><div class=\"sk-estimator fitted sk-toggleable\"><input class=\"sk-toggleable__control sk-hidden--visually\" id=\"sk-estimator-id-58\" type=\"checkbox\" ><label for=\"sk-estimator-id-58\" class=\"sk-toggleable__label fitted sk-toggleable__label-arrow fitted\">&nbsp;DecisionTreeClassifier<a class=\"sk-estimator-doc-link fitted\" rel=\"noreferrer\" target=\"_blank\" href=\"https://scikit-learn.org/1.5/modules/generated/sklearn.tree.DecisionTreeClassifier.html\">?<span>Documentation for DecisionTreeClassifier</span></a></label><div class=\"sk-toggleable__content fitted\"><pre>DecisionTreeClassifier(max_depth=9, random_state=43)</pre></div> </div></div></div></div></div><div class=\"sk-parallel-item\"><div class=\"sk-item\"><div class=\"sk-label-container\"><div class=\"sk-label fitted sk-toggleable\"><label>logistic_regression</label></div></div><div class=\"sk-serial\"><div class=\"sk-item\"><div class=\"sk-estimator fitted sk-toggleable\"><input class=\"sk-toggleable__control sk-hidden--visually\" id=\"sk-estimator-id-59\" type=\"checkbox\" ><label for=\"sk-estimator-id-59\" class=\"sk-toggleable__label fitted sk-toggleable__label-arrow fitted\">&nbsp;LogisticRegression<a class=\"sk-estimator-doc-link fitted\" rel=\"noreferrer\" target=\"_blank\" href=\"https://scikit-learn.org/1.5/modules/generated/sklearn.linear_model.LogisticRegression.html\">?<span>Documentation for LogisticRegression</span></a></label><div class=\"sk-toggleable__content fitted\"><pre>LogisticRegression(max_iter=1000, random_state=43)</pre></div> </div></div></div></div></div></div></div><div class=\"sk-item\"><div class=\"sk-parallel\"><div class=\"sk-parallel-item\"><div class=\"sk-item\"><div class=\"sk-label-container\"><div class=\"sk-label fitted sk-toggleable\"><label>final_estimator</label></div></div><div class=\"sk-serial\"><div class=\"sk-item\"><div class=\"sk-estimator fitted sk-toggleable\"><input class=\"sk-toggleable__control sk-hidden--visually\" id=\"sk-estimator-id-60\" type=\"checkbox\" ><label for=\"sk-estimator-id-60\" class=\"sk-toggleable__label fitted sk-toggleable__label-arrow fitted\">&nbsp;LogisticRegression<a class=\"sk-estimator-doc-link fitted\" rel=\"noreferrer\" target=\"_blank\" href=\"https://scikit-learn.org/1.5/modules/generated/sklearn.linear_model.LogisticRegression.html\">?<span>Documentation for LogisticRegression</span></a></label><div class=\"sk-toggleable__content fitted\"><pre>LogisticRegression(random_state=43)</pre></div> </div></div></div></div></div></div></div></div></div></div></div>"
            ]
          },
          "metadata": {},
          "execution_count": 177
        }
      ]
    },
    {
      "cell_type": "markdown",
      "source": [
        "Making and evaluating predictions for the decision tree model."
      ],
      "metadata": {
        "id": "2V4Nt-TCuf1j"
      }
    },
    {
      "cell_type": "code",
      "source": [
        "# Making predictions based on decision tree model.\n",
        "dt_predictions = dt_model.predict(X_test)\n",
        "dt_accuracy = accuracy_score(y_test, dt_predictions)\n",
        "dt_precision = precision_score(y_test, dt_predictions)\n",
        "dt_recall = recall_score(y_test, dt_predictions)\n",
        "dt_f1 = f1_score(y_test, dt_predictions)"
      ],
      "metadata": {
        "id": "Y2-amK6uugDf"
      },
      "execution_count": 178,
      "outputs": []
    },
    {
      "cell_type": "markdown",
      "source": [
        "Making and evaluating predictions for the linear regression model."
      ],
      "metadata": {
        "id": "GJKeMZeiugZi"
      }
    },
    {
      "cell_type": "code",
      "source": [
        "# Making predictions based on regression model.\n",
        "lr_predictions = lr_model.predict(X_test)\n",
        "lr_accuracy = accuracy_score(y_test, lr_predictions)\n",
        "lr_precision = precision_score(y_test, lr_predictions)\n",
        "lr_recall = recall_score(y_test, lr_predictions)\n",
        "lr_f1 = f1_score(y_test, lr_predictions)"
      ],
      "metadata": {
        "id": "M8b7KrAXugfo"
      },
      "execution_count": 179,
      "outputs": []
    },
    {
      "cell_type": "markdown",
      "source": [
        "Making and evaluating predictions for the stacked model."
      ],
      "metadata": {
        "id": "UJIAZK3WuglV"
      }
    },
    {
      "cell_type": "code",
      "source": [
        "# Making prediction based on stacked model.\n",
        "stacked_predictions = stacked_model.predict(X_test)\n",
        "accuracy = accuracy_score(y_test, stacked_predictions)\n",
        "precision = precision_score(y_test, stacked_predictions)\n",
        "recall = recall_score(y_test, stacked_predictions)\n",
        "f1 = f1_score(y_test, stacked_predictions)"
      ],
      "metadata": {
        "id": "28nSVAANugrC"
      },
      "execution_count": 180,
      "outputs": []
    },
    {
      "cell_type": "markdown",
      "source": [
        "The evaluation metrics of the three models, incuding Accuracy, Precision, Recall, and F1 Score."
      ],
      "metadata": {
        "id": "8ESn-BBMugxH"
      }
    },
    {
      "cell_type": "code",
      "source": [
        "print(\"Model Performances:\")\n",
        "print(\"\")\n",
        "\n",
        "print(\"Decision Tree Performance:\")\n",
        "print(f\"Accuracy: {dt_accuracy}, Precision: {dt_precision}, Recall: {dt_recall}, F1 Score: {dt_f1}\")\n",
        "\n",
        "print(\"\\nLogistic Regression Performance:\")\n",
        "print(f\"Accuracy: {lr_accuracy}, Precision: {lr_precision}, Recall: {lr_recall}, F1 Score: {lr_f1}\")\n",
        "\n",
        "print(\"\\nStacking Performance:\")\n",
        "print(f\"Accuracy: {accuracy}, Precision: {precision}, Recall: {recall}, F1 Score: {f1}\")"
      ],
      "metadata": {
        "colab": {
          "base_uri": "https://localhost:8080/"
        },
        "id": "6n8rHk9xug4Y",
        "outputId": "c21b603d-1906-4e9d-d102-4c0b96428a16"
      },
      "execution_count": 181,
      "outputs": [
        {
          "output_type": "stream",
          "name": "stdout",
          "text": [
            "Model Performances:\n",
            "\n",
            "Decision Tree Performance:\n",
            "Accuracy: 0.7300811464907702, Precision: 0.7400837734474595, Recall: 0.8273545339793965, F1 Score: 0.7812896527857884\n",
            "\n",
            "Logistic Regression Performance:\n",
            "Accuracy: 0.7130925829260191, Precision: 0.7173693203612651, Recall: 0.8376562563622297, F1 Score: 0.7728604703584041\n",
            "\n",
            "Stacking Performance:\n",
            "Accuracy: 0.7321691263702368, Precision: 0.7420920135721844, Recall: 0.828209617655442, F1 Score: 0.7827894088669951\n"
          ]
        }
      ]
    },
    {
      "cell_type": "markdown",
      "source": [
        "This cell organizes the prediction results of the stacked model into a more readable format, and prepares them for printing. The head of the dataset is printed at the bottom.\n"
      ],
      "metadata": {
        "id": "b2dLuibVuvdX"
      }
    },
    {
      "cell_type": "code",
      "source": [
        "# Preparing results for printing.\n",
        "stacked_results = X_test.copy()\n",
        "stacked_results['actual_play'] = y_test.map({1: 'pass', 0: 'run'})\n",
        "stacked_results['predicted_play'] = stacked_predictions\n",
        "stacked_results['predicted_play'] = stacked_results['predicted_play'].map({1: 'pass', 0: 'run'})\n",
        "stacked_results['yardline_100'] = filtered_data.loc[X_test.index, 'yardline_100'].astype(int)\n",
        "stacked_results['down'] = stacked_results['down'].astype(int)\n",
        "\n",
        "# Labeling if the actual play matches the predicted play, i.e. correct prediction.\n",
        "stacked_results['match'] = stacked_results.apply(\n",
        "    lambda row: '✔' if row['actual_play'] == row['predicted_play'] else '✘', axis=1\n",
        ")\n",
        "\n",
        "# Columns to be displayed in printout.\n",
        "display_cols = [\n",
        "    'down',\n",
        "    'ydstogo',\n",
        "    'yardline_100',\n",
        "    #'near_end_of_half', # Broke in notebook form for some reason.\n",
        "    'predicted_play',\n",
        "    'actual_play',\n",
        "    'match',\n",
        "]\n",
        "\n",
        "# Printing out prediction results\n",
        "print(\"Predictions:\")\n",
        "print(\"\")\n",
        "print(stacked_results[display_cols].head())"
      ],
      "metadata": {
        "colab": {
          "base_uri": "https://localhost:8080/"
        },
        "id": "Mhg4xGXQuvns",
        "outputId": "9b1a20e7-943a-44be-928a-e1a8521748ec"
      },
      "execution_count": 182,
      "outputs": [
        {
          "output_type": "stream",
          "name": "stdout",
          "text": [
            "Predictions:\n",
            "\n",
            "        down  ydstogo  yardline_100 predicted_play actual_play match\n",
            "177519     1       10            35           pass        pass     ✔\n",
            "165036     1       10            73            run         run     ✔\n",
            "170745     2        5            56           pass        pass     ✔\n",
            "77298      1       20            90           pass         run     ✘\n",
            "163466     2        7             8           pass         run     ✘\n"
          ]
        }
      ]
    },
    {
      "cell_type": "markdown",
      "source": [
        "Single game play type prediction. Alter the feature values and investigate how it changes the predicted play type."
      ],
      "metadata": {
        "id": "9ks7Z5eQuvu-"
      }
    },
    {
      "cell_type": "code",
      "source": [
        "single_play = {\n",
        "    'down': 3,\n",
        "    'ydstogo': 8,\n",
        "    'red_zone': 1,\n",
        "    'is_home_team': 1,\n",
        "    'is_late_season': 1,\n",
        "    'is_shotgun': 1,\n",
        "    'is_no_huddle': 0,\n",
        "    'near_end_of_half': 1,\n",
        "    'near_end_of_game': 0,\n",
        "    'late_cozy_offense': 0,\n",
        "    'late_desperate_offense': 0,\n",
        "    'late_super_desperate_offense': 0,\n",
        "    'rolling_avg_yards': 5,\n",
        "    'previous_play_run': 0,\n",
        "    'previous_play_pass': 1,\n",
        "    'past_conversion_success': 1\n",
        "}\n",
        "\n",
        "single_play_df = pd.DataFrame([single_play])\n",
        "pred = stacked_model.predict(single_play_df)[0]\n",
        "pred_type = 'Pass' if pred == 1 else 'Run'\n",
        "\n",
        "print(\"Single Play Prediction:\")\n",
        "# print(f\"Features: {single_play}\")\n",
        "print(pred_type)"
      ],
      "metadata": {
        "colab": {
          "base_uri": "https://localhost:8080/"
        },
        "id": "1AC64SUJuv16",
        "outputId": "4a532e47-8eb0-49de-a782-93cd213dca0a"
      },
      "execution_count": 183,
      "outputs": [
        {
          "output_type": "stream",
          "name": "stdout",
          "text": [
            "Single Play Prediction:\n",
            "Pass\n"
          ]
        }
      ]
    }
  ]
}